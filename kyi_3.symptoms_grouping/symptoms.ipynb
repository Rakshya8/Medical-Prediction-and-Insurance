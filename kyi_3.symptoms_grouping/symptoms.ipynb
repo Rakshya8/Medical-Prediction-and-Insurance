{
 "cells": [
  {
   "cell_type": "code",
   "execution_count": 1,
   "metadata": {},
   "outputs": [],
   "source": [
    "import pandas as pd"
   ]
  },
  {
   "cell_type": "code",
   "execution_count": 2,
   "metadata": {},
   "outputs": [],
   "source": [
    "num = ['itching','skin_rash','continuous_sneezing','joint_pain','stomach_pain','acidity','ulcers_on_tongue','burning_micturition',\n",
    "       'spotting_ urination','weight_gain','anxiety','cold_hands_and_feets','mood_swings','weight_loss','restlessness','irregular_sugar_level','cough','high_fever',\n",
    "       'sunken_eyes','breathlessness','sweating','dehydration','indigestion','headache','yellowish_skin','dark_urine','loss_of_appetite','pain_behind_the_eyes',\n",
    "       'back_pain','constipation','abdominal_pain','diarrhoea','mild_fever','yellow_urine','yellowing_of_eyes','acute_liver_failure',\n",
    "       'swelling_of_stomach','swelled_lymph_nodes','malaise','blurred_and_distorted_vision','phlegm','throat_irritation','redness_of_eyes','congestion',\n",
    "       'chest_pain','weakness_in_limbs','fast_heart_rate','pain_during_bowel_movements','bloody_stool','neck_pain','dizziness','cramps','bruising','obesity',\n",
    "       'swollen_legs','swollen_blood_vessels','puffy_face_and_eyes','enlarged_thyroid','brittle_nails','swollen_extremeties','excessive_hunger',\n",
    "       'drying_and_tingling_lips','slurred_speech','knee_pain','hip_joint_pain','muscle_weakness',\n",
    "       'stiff_neck','movement_stiffness','spinning_movements','weakness_of_one_body_side','loss_of_smell','bladder_discomfort',\n",
    "       'foul_smell_of urine','continuous_feel_of_urine','passage_of_gases','internal_itching','toxic_look_(typhos)','depression','irritability',\n",
    "       'muscle_pain','altered_sensorium',\n",
    "       'red_spots_over_body','belly_pain','abnormal_menstruation','dischromic_patches','watering_from_eyes','increased_appetite',\n",
    "       'polyuria','family_history','mucoid_sputum','rusty_sputum','lack_of_concentration','visual_disturbances','coma',\n",
    "       'stomach_bleeding','blood_in_sputum','prominent_veins_on_calf','palpitations','painful_walking','shivering_or_chills',\n",
    "       'unprotected_blood/sex_transfusion','pain/irritation_in_anal_region','swollen_painful_joints']"
   ]
  },
  {
   "cell_type": "code",
   "execution_count": 5,
   "metadata": {},
   "outputs": [],
   "source": [
    "symp = pd.DataFrame(num, columns=[\"Symptoms\"])"
   ]
  },
  {
   "cell_type": "code",
   "execution_count": 6,
   "metadata": {},
   "outputs": [
    {
     "data": {
      "text/html": [
       "<div>\n",
       "<style scoped>\n",
       "    .dataframe tbody tr th:only-of-type {\n",
       "        vertical-align: middle;\n",
       "    }\n",
       "\n",
       "    .dataframe tbody tr th {\n",
       "        vertical-align: top;\n",
       "    }\n",
       "\n",
       "    .dataframe thead th {\n",
       "        text-align: right;\n",
       "    }\n",
       "</style>\n",
       "<table border=\"1\" class=\"dataframe\">\n",
       "  <thead>\n",
       "    <tr style=\"text-align: right;\">\n",
       "      <th></th>\n",
       "      <th>Symptoms</th>\n",
       "    </tr>\n",
       "  </thead>\n",
       "  <tbody>\n",
       "    <tr>\n",
       "      <th>0</th>\n",
       "      <td>itching</td>\n",
       "    </tr>\n",
       "    <tr>\n",
       "      <th>1</th>\n",
       "      <td>skin_rash</td>\n",
       "    </tr>\n",
       "    <tr>\n",
       "      <th>2</th>\n",
       "      <td>continuous_sneezing</td>\n",
       "    </tr>\n",
       "    <tr>\n",
       "      <th>3</th>\n",
       "      <td>joint_pain</td>\n",
       "    </tr>\n",
       "    <tr>\n",
       "      <th>4</th>\n",
       "      <td>stomach_pain</td>\n",
       "    </tr>\n",
       "    <tr>\n",
       "      <th>...</th>\n",
       "      <td>...</td>\n",
       "    </tr>\n",
       "    <tr>\n",
       "      <th>98</th>\n",
       "      <td>painful_walking</td>\n",
       "    </tr>\n",
       "    <tr>\n",
       "      <th>99</th>\n",
       "      <td>shivering_or_chills</td>\n",
       "    </tr>\n",
       "    <tr>\n",
       "      <th>100</th>\n",
       "      <td>unprotected_blood/sex_transfusion</td>\n",
       "    </tr>\n",
       "    <tr>\n",
       "      <th>101</th>\n",
       "      <td>pain/irritation_in_anal_region</td>\n",
       "    </tr>\n",
       "    <tr>\n",
       "      <th>102</th>\n",
       "      <td>swollen_painful_joints</td>\n",
       "    </tr>\n",
       "  </tbody>\n",
       "</table>\n",
       "<p>103 rows × 1 columns</p>\n",
       "</div>"
      ],
      "text/plain": [
       "                              Symptoms\n",
       "0                              itching\n",
       "1                            skin_rash\n",
       "2                  continuous_sneezing\n",
       "3                           joint_pain\n",
       "4                         stomach_pain\n",
       "..                                 ...\n",
       "98                     painful_walking\n",
       "99                 shivering_or_chills\n",
       "100  unprotected_blood/sex_transfusion\n",
       "101     pain/irritation_in_anal_region\n",
       "102             swollen_painful_joints\n",
       "\n",
       "[103 rows x 1 columns]"
      ]
     },
     "execution_count": 6,
     "metadata": {},
     "output_type": "execute_result"
    }
   ],
   "source": [
    "symp"
   ]
  },
  {
   "cell_type": "code",
   "execution_count": null,
   "metadata": {},
   "outputs": [],
   "source": []
  }
 ],
 "metadata": {
  "kernelspec": {
   "display_name": "Python 3",
   "language": "python",
   "name": "python3"
  },
  "language_info": {
   "codemirror_mode": {
    "name": "ipython",
    "version": 3
   },
   "file_extension": ".py",
   "mimetype": "text/x-python",
   "name": "python",
   "nbconvert_exporter": "python",
   "pygments_lexer": "ipython3",
   "version": "3.11.4"
  }
 },
 "nbformat": 4,
 "nbformat_minor": 2
}
